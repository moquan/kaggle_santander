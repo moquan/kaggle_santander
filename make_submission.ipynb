{
 "cells": [
  {
   "cell_type": "code",
   "execution_count": 2,
   "metadata": {},
   "outputs": [],
   "source": [
    "import warnings, copy\n",
    "warnings.filterwarnings('ignore')\n",
    "import pandas as pd\n",
    "import numpy as np\n",
    "from scipy import stats\n",
    "import matplotlib.pyplot as plt\n",
    "# import seaborn as sns\n",
    "# sns.set(style=\"whitegrid\", color_codes=True)\n",
    "import cPickle\n",
    "import csv"
   ]
  },
  {
   "cell_type": "code",
   "execution_count": null,
   "metadata": {},
   "outputs": [],
   "source": [
    "work_dir = '/home/dawna/tts/mw545/DVExp/hh/'\n",
    "\n",
    "test_ID_file_name=work_dir+\"test_ID.dat\"\n",
    "IDs = cPickle.load(open(test_ID_file_name, 'rb'))\n",
    "# IDs = prices_raw['ID']\n",
    "\n",
    "predict_output_file_name = work_dir+\"predict_output.dat\"\n",
    "predict_output = cPickle.load(open(predict_output_file_name, 'rb'))\n",
    "\n",
    "assert IDs.values.shape[0] == predict_output.shape[0]\n",
    "with open('submission.csv') as csvfile:\n",
    "    reader = csv.DictReader(csvfile)\n",
    "    for row in reader:\n",
    "    print(IDs [row], predict_ouitput[row,0])"
   ]
  }
 ],
 "metadata": {
  "kernelspec": {
   "display_name": "Python 2",
   "language": "python",
   "name": "python2"
  },
  "language_info": {
   "codemirror_mode": {
    "name": "ipython",
    "version": 2
   },
   "file_extension": ".py",
   "mimetype": "text/x-python",
   "name": "python",
   "nbconvert_exporter": "python",
   "pygments_lexer": "ipython2",
   "version": "2.7.10"
  }
 },
 "nbformat": 4,
 "nbformat_minor": 2
}
